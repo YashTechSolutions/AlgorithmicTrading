{
 "cells": [
  {
   "cell_type": "code",
   "execution_count": 36,
   "id": "b1fd3d60-6408-469f-a3af-1c7ee14e8157",
   "metadata": {},
   "outputs": [],
   "source": [
    "import requests\n",
    "import pandas as pd\n",
    "import json \n",
    "from dateutil import parser"
   ]
  },
  {
   "cell_type": "code",
   "execution_count": 37,
   "id": "1ff6be6f-e316-485a-8623-1da9634e013a",
   "metadata": {},
   "outputs": [],
   "source": [
    "API_KEY=\"cba5fd5258927d19bd27f59d33a08dad-4f3ed1cef55c643a13391fac6767af37\"\n",
    "ACC_NO=\"101-003-29659100-001\"\n",
    "API=\"https://api-fxpractice.oanda.com/v3\""
   ]
  },
  {
   "cell_type": "code",
   "execution_count": 38,
   "id": "f1e714bc-52ce-4fa5-87de-16d9276d8cd6",
   "metadata": {},
   "outputs": [],
   "source": [
    "session=requests.Session()\n"
   ]
  },
  {
   "cell_type": "code",
   "execution_count": 39,
   "id": "1dc80801-ab88-4b15-b8c0-6d6ad22b99d6",
   "metadata": {},
   "outputs": [],
   "source": [
    "session.headers.update({\n",
    "    \"Authorization\":f\"Bearer {API_KEY}\",\n",
    "    \"Content-Type\":\"application/json\"\n",
    "})"
   ]
  },
  {
   "cell_type": "code",
   "execution_count": 40,
   "id": "aca5c751-6202-4060-9ee9-523ceec9d757",
   "metadata": {},
   "outputs": [],
   "source": [
    "url=f\"{API}/accounts/{ACC_NO}/instruments\""
   ]
  },
  {
   "cell_type": "markdown",
   "id": "687ff2c7-702c-4588-970c-6ae4b9a72673",
   "metadata": {},
   "source": [
    "Getting the Various Instruments"
   ]
  },
  {
   "cell_type": "code",
   "execution_count": 41,
   "id": "ee795128-c4a8-456e-98d9-fd1a2b2ee5a6",
   "metadata": {},
   "outputs": [],
   "source": [
    "response=session.get(url,params=None,headers=None,data=None)"
   ]
  },
  {
   "cell_type": "code",
   "execution_count": 42,
   "id": "5b21bdfe-f61f-44cf-97c0-c6870ee18d12",
   "metadata": {},
   "outputs": [],
   "source": [
    "data=response.json()"
   ]
  },
  {
   "cell_type": "code",
   "execution_count": 43,
   "id": "287f747f-546a-4a63-be67-fff765e3617b",
   "metadata": {},
   "outputs": [],
   "source": [
    "instruments_list=data[\"instruments\"]"
   ]
  },
  {
   "cell_type": "code",
   "execution_count": 44,
   "id": "bf0f1564-925d-4e10-afe2-f04fba14c2fe",
   "metadata": {},
   "outputs": [],
   "source": [
    "key_i=['name','type', 'displayName', 'pipLocation','displayPrecision','tradeUnitsPrecision','marginRate']"
   ]
  },
  {
   "cell_type": "code",
   "execution_count": 45,
   "id": "bef09552-54d7-48e2-a78a-66c24b96380f",
   "metadata": {},
   "outputs": [],
   "source": [
    " instruments_dict={}\n",
    "for i in instruments_list:\n",
    "    key=i[\"name\"]\n",
    "    instruments_dict[key]={k: i[k] for k in key_i}"
   ]
  },
  {
   "cell_type": "code",
   "execution_count": 46,
   "id": "d12ade7b-1d05-4bcd-b248-241baa7c781e",
   "metadata": {},
   "outputs": [],
   "source": [
    "with open(\"../data/instruments.json\",\"w\") as f:\n",
    "    f.write(json.dumps(instruments_dict,indent=2))"
   ]
  },
  {
   "cell_type": "raw",
   "id": "1b27d214-8cac-489f-b35f-576c0aea57bd",
   "metadata": {},
   "source": [
    "Getting the candle data"
   ]
  },
  {
   "cell_type": "code",
   "execution_count": 54,
   "id": "449fbe6e-38a4-4c9b-89ff-b987896ef975",
   "metadata": {},
   "outputs": [],
   "source": [
    "\n",
    "def fetch_candles(pair_name, count=10, granularity=\"H1\"):\n",
    "    url=f'{API}/instruments/{pair_name}/candles'\n",
    "    params= dict(\n",
    "        count=count,\n",
    "        granularity=granularity,\n",
    "        price=\"MBA\"\n",
    "    )\n",
    "    response=session.get(url,params=params, headers=None, data=None)\n",
    "    data=response.json()\n",
    "    if response.status_code==200:\n",
    "        if 'candles' not in data:\n",
    "            data=[]\n",
    "        else:\n",
    "            data=data['candles']\n",
    "    return response.status_code, data\n"
   ]
  },
  {
   "cell_type": "markdown",
   "id": "1a7bf0d0-5e2f-4146-ae91-4179a1ab8020",
   "metadata": {},
   "source": [
    "Turning data into panda Dataframe"
   ]
  },
  {
   "cell_type": "code",
   "execution_count": 48,
   "id": "b3f2acf8-281f-4203-878a-d9cb4dc7754d",
   "metadata": {},
   "outputs": [],
   "source": [
    "prices = ['mid','bid','ask']\n",
    "ohlc=['o','h','l','c']"
   ]
  },
  {
   "cell_type": "code",
   "execution_count": 68,
   "id": "8f50be66-3bc0-48d8-911f-f02360dbe73d",
   "metadata": {},
   "outputs": [],
   "source": [
    "\n",
    "def get_candles_df(data):\n",
    "    final_data=[]\n",
    "\n",
    "    if len(data)==0:\n",
    "        return pd.dataframe()\n",
    "        \n",
    "    for candle in data:\n",
    "        if candle['complete']==False:\n",
    "            continue\n",
    "    \n",
    "        new_dict={}\n",
    "        new_dict['time'] = parser.parse(candle['time'])\n",
    "        new_dict['volume']=candle['volume']\n",
    "        for p in prices:\n",
    "            for o in ohlc:\n",
    "                new_dict[f\"{p}_{o}\"] =float(candle[p][o])\n",
    "        final_data.append(new_dict)\n",
    "    \n",
    "    df= pd.DataFrame(final_data)\n",
    "    final_data=[]\n",
    "    return df\n"
   ]
  },
  {
   "cell_type": "code",
   "execution_count": 69,
   "id": "7befab16-1834-4912-b3e4-e9484fc4fcba",
   "metadata": {},
   "outputs": [],
   "source": [
    "def create_data_file(pair_name, count=10, granularity=\"H1\"):\n",
    "    code,data=fetch_candles(pair_name, count,granularity)\n",
    "    if code!=200:\n",
    "        print(\"Failed\",pair_name,data)\n",
    "        return\n",
    "    if len(data)==0:\n",
    "        print(\"No candles\",pair_name) \n",
    "    candles_df=get_candles_df(data)\n",
    "    candles_df.to_pickle(f\"../data/{pair_name}_{granularity}.pkl\")\n",
    "    print(f\"{pair_name} {granularity} {candles_df.shape[0]} candles, {candles_df.time.min()} {candles_df.time.max()}\")"
   ]
  },
  {
   "cell_type": "code",
   "execution_count": 70,
   "id": "6c177cd3-30a1-42e9-abe3-c0ce39c25f80",
   "metadata": {},
   "outputs": [
    {
     "name": "stdout",
     "output_type": "stream",
     "text": [
      "EUR_USD H1 9 candles, 2024-08-16 00:00:00+00:00 2024-08-16 08:00:00+00:00\n"
     ]
    }
   ],
   "source": [
    "create_data_file(\"EUR_USD\")"
   ]
  },
  {
   "cell_type": "code",
   "execution_count": null,
   "id": "1fe71f72-2a82-4e9f-b6d8-0a46207345a5",
   "metadata": {},
   "outputs": [
    {
     "name": "stdout",
     "output_type": "stream",
     "text": [
      "EUR_USD H1 4000 candles, 2023-12-26 16:00:00+00:00 2024-08-16 08:00:00+00:00\n",
      "EUR_USD H4 4000 candles, 2022-01-21 18:00:00+00:00 2024-08-16 05:00:00+00:00\n",
      "EUR_GBP H1 4000 candles, 2023-12-26 16:00:00+00:00 2024-08-16 08:00:00+00:00\n",
      "EUR_GBP H4 4000 candles, 2022-01-21 18:00:00+00:00 2024-08-16 05:00:00+00:00\n",
      "EUR_JPY H1 4000 candles, 2023-12-26 16:00:00+00:00 2024-08-16 08:00:00+00:00\n",
      "EUR_JPY H4 4000 candles, 2022-01-21 10:00:00+00:00 2024-08-16 05:00:00+00:00\n",
      "EUR_CHF H1 4000 candles, 2023-12-26 16:00:00+00:00 2024-08-16 08:00:00+00:00\n",
      "EUR_CHF H4 4000 candles, 2022-01-21 18:00:00+00:00 2024-08-16 05:00:00+00:00\n",
      "EUR_NZD H1 4000 candles, 2023-12-26 17:00:00+00:00 2024-08-16 08:00:00+00:00\n",
      "EUR_NZD H4 4000 candles, 2022-01-24 02:00:00+00:00 2024-08-16 05:00:00+00:00\n",
      "EUR_CAD H1 4000 candles, 2023-12-26 16:00:00+00:00 2024-08-16 08:00:00+00:00\n",
      "EUR_CAD H4 4000 candles, 2022-01-21 18:00:00+00:00 2024-08-16 05:00:00+00:00\n",
      "EUR_AUD H1 4000 candles, 2023-12-26 16:00:00+00:00 2024-08-16 08:00:00+00:00\n",
      "EUR_AUD H4 4000 candles, 2022-01-21 18:00:00+00:00 2024-08-16 05:00:00+00:00\n",
      "USD_JPY H1 4000 candles, 2023-12-26 16:00:00+00:00 2024-08-16 08:00:00+00:00\n",
      "USD_JPY H4 4000 candles, 2022-01-21 18:00:00+00:00 2024-08-16 05:00:00+00:00\n",
      "USD_CHF H1 4000 candles, 2023-12-26 16:00:00+00:00 2024-08-16 08:00:00+00:00\n",
      "USD_CHF H4 4000 candles, 2022-01-21 18:00:00+00:00 2024-08-16 05:00:00+00:00\n",
      "USD_CAD H1 4000 candles, 2023-12-26 16:00:00+00:00 2024-08-16 08:00:00+00:00\n",
      "USD_CAD H4 4000 candles, 2022-01-21 18:00:00+00:00 2024-08-16 05:00:00+00:00\n",
      "GBP_USD H1 4000 candles, 2023-12-26 16:00:00+00:00 2024-08-16 08:00:00+00:00\n",
      "GBP_USD H4 4000 candles, 2022-01-21 18:00:00+00:00 2024-08-16 05:00:00+00:00\n",
      "GBP_JPY H1 4000 candles, 2023-12-26 16:00:00+00:00 2024-08-16 08:00:00+00:00\n",
      "GBP_JPY H4 4000 candles, 2022-01-21 18:00:00+00:00 2024-08-16 05:00:00+00:00\n",
      "GBP_CHF H1 4000 candles, 2023-12-26 16:00:00+00:00 2024-08-16 08:00:00+00:00\n",
      "GBP_CHF H4 4000 candles, 2022-01-21 18:00:00+00:00 2024-08-16 05:00:00+00:00\n",
      "GBP_NZD H1 4000 candles, 2023-12-26 17:00:00+00:00 2024-08-16 08:00:00+00:00\n",
      "GBP_NZD H4 4000 candles, 2022-01-24 02:00:00+00:00 2024-08-16 05:00:00+00:00\n",
      "GBP_CAD H1 4000 candles, 2023-12-26 16:00:00+00:00 2024-08-16 08:00:00+00:00\n",
      "GBP_CAD H4 4000 candles, 2022-01-21 18:00:00+00:00 2024-08-16 05:00:00+00:00\n",
      "GBP_AUD H1 4000 candles, 2023-12-26 16:00:00+00:00 2024-08-16 08:00:00+00:00\n",
      "GBP_AUD H4 4000 candles, 2022-01-21 18:00:00+00:00 2024-08-16 05:00:00+00:00\n",
      "CHF_JPY H1 4000 candles, 2023-12-26 16:00:00+00:00 2024-08-16 08:00:00+00:00\n",
      "CHF_JPY H4 4000 candles, 2022-01-21 18:00:00+00:00 2024-08-16 05:00:00+00:00\n",
      "NZD_USD H1 4000 candles, 2023-12-26 17:00:00+00:00 2024-08-16 08:00:00+00:00\n",
      "NZD_USD H4 4000 candles, 2022-01-24 06:00:00+00:00 2024-08-16 05:00:00+00:00\n",
      "NZD_JPY H1 4000 candles, 2023-12-26 17:00:00+00:00 2024-08-16 08:00:00+00:00\n",
      "NZD_JPY H4 4000 candles, 2022-01-24 02:00:00+00:00 2024-08-16 05:00:00+00:00\n",
      "NZD_CHF H1 4000 candles, 2023-12-26 16:00:00+00:00 2024-08-16 08:00:00+00:00\n",
      "NZD_CHF H4 4000 candles, 2022-01-23 22:00:00+00:00 2024-08-16 05:00:00+00:00\n",
      "NZD_CAD H1 4000 candles, 2023-12-26 17:00:00+00:00 2024-08-16 08:00:00+00:00\n",
      "NZD_CAD H4 4000 candles, 2022-01-24 02:00:00+00:00 2024-08-16 05:00:00+00:00\n",
      "CAD_JPY H1 4000 candles, 2023-12-26 16:00:00+00:00 2024-08-16 08:00:00+00:00\n",
      "CAD_JPY H4 4000 candles, 2022-01-21 18:00:00+00:00 2024-08-16 05:00:00+00:00\n"
     ]
    }
   ],
   "source": [
    "our_curr=[\"EUR\",\"USD\",\"GBP\",\"JPY\",\"CHF\",\"NZD\",\"CAD\",\"AUD\"]\n",
    "for p1 in our_curr:\n",
    "    for p2 in our_curr:\n",
    "        pr=f\"{p1}_{p2}\"\n",
    "        if pr in instruments_dict.keys():\n",
    "            for g in [\"H1\",\"H4\"]:\n",
    "                create_data_file(pr,4001,g)"
   ]
  },
  {
   "cell_type": "code",
   "execution_count": null,
   "id": "47ad311d-74aa-4468-964e-9d1439b3d15f",
   "metadata": {},
   "outputs": [],
   "source": []
  },
  {
   "cell_type": "code",
   "execution_count": null,
   "id": "1295a4f1-e1b2-412d-9b70-a16097e42fef",
   "metadata": {},
   "outputs": [],
   "source": []
  },
  {
   "cell_type": "code",
   "execution_count": null,
   "id": "4886062a-1fad-4a96-94a1-37b9e53a7e59",
   "metadata": {},
   "outputs": [],
   "source": []
  },
  {
   "cell_type": "code",
   "execution_count": null,
   "id": "9ffa1c4f-c5bd-4a4c-8ffc-2d0215b10cef",
   "metadata": {},
   "outputs": [],
   "source": []
  },
  {
   "cell_type": "code",
   "execution_count": null,
   "id": "246454eb-54e3-4b21-bb15-689dc9d73a4e",
   "metadata": {},
   "outputs": [],
   "source": []
  },
  {
   "cell_type": "code",
   "execution_count": null,
   "id": "493aae40-7833-412c-957e-ee1e36ff7d03",
   "metadata": {},
   "outputs": [],
   "source": []
  },
  {
   "cell_type": "code",
   "execution_count": null,
   "id": "163ed15b-93b3-4fc6-9f4d-49a5d0b46e46",
   "metadata": {},
   "outputs": [],
   "source": []
  }
 ],
 "metadata": {
  "kernelspec": {
   "display_name": "Python 3 (ipykernel)",
   "language": "python",
   "name": "python3"
  },
  "language_info": {
   "codemirror_mode": {
    "name": "ipython",
    "version": 3
   },
   "file_extension": ".py",
   "mimetype": "text/x-python",
   "name": "python",
   "nbconvert_exporter": "python",
   "pygments_lexer": "ipython3",
   "version": "3.12.3"
  }
 },
 "nbformat": 4,
 "nbformat_minor": 5
}
